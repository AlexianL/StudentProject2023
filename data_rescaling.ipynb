{
  "nbformat": 4,
  "nbformat_minor": 0,
  "metadata": {
    "colab": {
      "provenance": [],
      "authorship_tag": "ABX9TyOAPQtJwgiU8FR/Oa3y+Rk4",
      "include_colab_link": true
    },
    "kernelspec": {
      "name": "python3",
      "display_name": "Python 3"
    },
    "language_info": {
      "name": "python"
    }
  },
  "cells": [
    {
      "cell_type": "markdown",
      "metadata": {
        "id": "view-in-github",
        "colab_type": "text"
      },
      "source": [
        "<a href=\"https://colab.research.google.com/github/AlexianL/StudentProject2023/blob/main/data_rescaling.ipynb\" target=\"_parent\"><img src=\"https://colab.research.google.com/assets/colab-badge.svg\" alt=\"Open In Colab\"/></a>"
      ]
    },
    {
      "cell_type": "code",
      "execution_count": 10,
      "metadata": {
        "id": "nxmZH6oQkSKi"
      },
      "outputs": [],
      "source": [
        "#Libraries for data processing\n",
        "import numpy as np \n",
        "import pandas as pd\n",
        "\n",
        "#Libraries for plotting\n",
        "import matplotlib.pyplot as plt\n",
        "import seaborn as sns \n",
        "sns.set(color_codes = True)\n",
        "sns.set(font_scale=1.5) #fixing font size\n",
        "\n",
        "#Library for rescaling\n",
        "from sklearn.preprocessing import MinMaxScaler"
      ]
    },
    {
      "cell_type": "code",
      "source": [
        "from logging import RootLogger\n",
        "# Mount Google Drive\n",
        "from google.colab import drive #import drive from google colab\n",
        "\n",
        "root = \"/content/drive\"     #default location for the drive\n",
        "\n",
        "drive.mount(root)           #we mount the google drive at /content/drive\n",
        "\n",
        "#import join used to join ROOT path and MY_GOOGLE_DRIVE_PATH\n",
        "from os.path import join  \n",
        "\n",
        "#path to your project on Google Drive\n",
        "my_google_drive_path = \"MyDrive/StudentProject2023\"\n",
        "\n",
        "project_path = join(root, my_google_drive_path)"
      ],
      "metadata": {
        "colab": {
          "base_uri": "https://localhost:8080/"
        },
        "id": "orDulxoulS1n",
        "outputId": "e042424b-9244-4475-b542-78129614993c"
      },
      "execution_count": 11,
      "outputs": [
        {
          "output_type": "stream",
          "name": "stdout",
          "text": [
            "Drive already mounted at /content/drive; to attempt to forcibly remount, call drive.mount(\"/content/drive\", force_remount=True).\n"
          ]
        }
      ]
    },
    {
      "cell_type": "code",
      "source": [
        "merged_data = pd.read_csv(join(project_path,\"processed_data/merged_data.csv\"), sep=\";\")"
      ],
      "metadata": {
        "id": "TIsDRCCMoa6b"
      },
      "execution_count": 12,
      "outputs": []
    },
    {
      "cell_type": "code",
      "source": [
        "scaler = MinMaxScaler(feature_range=(0,1))\n",
        "\n",
        "def rescale(list) :\n",
        "    \"\"\"This function adds new columns to the merged dataframe with data rescaled\n",
        "    between 0 and 1\"\"\"\n",
        "    for column in list :\n",
        "        merged_data[\"rescaled_\"+column]=scaler.fit_transform(pd.Series.to_numpy(merged_data[column]).reshape(-1,1))\n"
      ],
      "metadata": {
        "id": "yjoGRPPBovyx"
      },
      "execution_count": 13,
      "outputs": []
    },
    {
      "cell_type": "code",
      "source": [
        "columns=[\"ame_BE\",\"N\",\"Z\",\"Surf\",\"Asym\",\"Coul\",\"Pair\",\"Z_parity\",\"N_parity\",\"Z_distance\",\"N_distance\"]\n",
        "\n",
        "rescale(columns)"
      ],
      "metadata": {
        "id": "yXwhyo72tbYJ"
      },
      "execution_count": 14,
      "outputs": []
    },
    {
      "cell_type": "code",
      "source": [
        "#We save this merged dataframe to .csv\n",
        "merged_data.to_csv(join(project_path,\"rescaled_data/rescaled_data.csv\"),sep=\";\", index=False)"
      ],
      "metadata": {
        "id": "waJIa9BQt-8n"
      },
      "execution_count": 15,
      "outputs": []
    },
    {
      "cell_type": "code",
      "source": [
        "#From the merged table, create one training dataset and a validation one\n",
        "#Not sure the next two lines are useful\n",
        "train_data = pd.DataFrame(columns=[\"Z\",\"N\",\"dz_BE/A\",\"dz_ME\",\"A\",\"dz_BE\",\"dz_S1n\",\"dz_S1p\",\"dz_S2p\", \"dz_S2n\",\"ame_ME\", \"ame_BE/A\", \"ame_AM\", \"ame_BE\", \"ame_S2p\", \"ame_S2n\", \"BE_diff_dz_ame\",\"Surf\",\"Asym\",\"Coul\",\"Pair\",\"Z_parity\",\"N_parity\",\"Z_distance\",\"N_distance\"])\n",
        "validation_data = pd.DataFrame(columns=[\"Z\",\"N\",\"dz_BE/A\",\"dz_ME\",\"A\",\"dz_BE\",\"dz_S1n\",\"dz_S1p\",\"dz_S2p\", \"dz_S2n\",\"ame_ME\", \"ame_BE/A\", \"ame_AM\", \"ame_BE\", \"ame_S2p\", \"ame_S2n\", \"BE_diff_dz_ame\",\"Surf\",\"Asym\",\"Coul\",\"Pair\",\"Z_parity\",\"N_parity\",\"Z_distance\",\"N_distance\"])\n",
        "\n",
        "\n",
        "#We separate the merged dataframe into training and validation datasets\n",
        "for i in range(len(merged_data)) :\n",
        "    \n",
        "    if int(merged_data.iloc[i][\"Z\"]) in [10,38,54,68,82] :\n",
        "        validation_data = validation_data.append(merged_data.iloc[i], ignore_index=True)\n",
        "\n",
        "    else :\n",
        "        train_data = train_data.append(merged_data.iloc[i], ignore_index=True)\n",
        "\n",
        "\n",
        "#We don't use data before A<16 because these light nuclei experience\n",
        "#At least for training\n",
        "#Physics effects that are very far from trivial (halo etc)\n",
        "train_data.drop(train_data[(train_data[\"A\"]<16 )].index, inplace=True)\n",
        "\n",
        "train_merged_csv = train_data.to_csv(join(project_path,\"rescaled_data/train_rescaled_data.csv\"),sep=\";\")\n",
        "validation_merged_csv = validation_data.to_csv(join(project_path,\"rescaled_data/validation_rescaled_data.csv\"),sep=\";\")"
      ],
      "metadata": {
        "id": "6evvx9njuZSH"
      },
      "execution_count": 16,
      "outputs": []
    },
    {
      "cell_type": "code",
      "source": [],
      "metadata": {
        "id": "lz9-sVUAupQB"
      },
      "execution_count": null,
      "outputs": []
    }
  ]
}