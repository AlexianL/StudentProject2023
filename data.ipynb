{
  "nbformat": 4,
  "nbformat_minor": 0,
  "metadata": {
    "colab": {
      "provenance": [],
      "authorship_tag": "ABX9TyOLLsad/CTujkg+ynLrAyEJ",
      "include_colab_link": true
    },
    "kernelspec": {
      "name": "python3",
      "display_name": "Python 3"
    },
    "language_info": {
      "name": "python"
    },
    "accelerator": "GPU",
    "gpuClass": "standard"
  },
  "cells": [
    {
      "cell_type": "markdown",
      "metadata": {
        "id": "view-in-github",
        "colab_type": "text"
      },
      "source": [
        "<a href=\"https://colab.research.google.com/github/AlexianL/StudentProject2023/blob/main/data.ipynb\" target=\"_parent\"><img src=\"https://colab.research.google.com/assets/colab-badge.svg\" alt=\"Open In Colab\"/></a>"
      ]
    },
    {
      "cell_type": "code",
      "source": [
        "import numpy as np "
      ],
      "metadata": {
        "id": "LHDvTAqRG_IQ"
      },
      "execution_count": 9,
      "outputs": []
    },
    {
      "cell_type": "code",
      "execution_count": 8,
      "metadata": {
        "id": "QR477Ki5OrS_",
        "colab": {
          "base_uri": "https://localhost:8080/"
        },
        "outputId": "83ce9083-9876-4fb8-c60c-27fdaaa7fb70"
      },
      "outputs": [
        {
          "output_type": "stream",
          "name": "stdout",
          "text": [
            "Drive already mounted at /content/drive; to attempt to forcibly remount, call drive.mount(\"/content/drive\", force_remount=True).\n"
          ]
        }
      ],
      "source": [
        "from google.colab import drive\n",
        "drive.mount('/content/drive')\n",
        "\n"
      ]
    },
    {
      "cell_type": "code",
      "source": [
        "#Open the file, delete all the lines that are not data\n",
        "mass_file=open(\"/content/drive/MyDrive/StudentProject2023/mass_1.mas20.txt\",\"r+\")\n",
        "lines=mass_file.readlines()\n",
        "mass_file.seek(0)\n",
        "mass_file.writelines(lines[36:])"
      ],
      "metadata": {
        "id": "FC7g1NrQQOUN"
      },
      "execution_count": 48,
      "outputs": []
    },
    {
      "cell_type": "code",
      "source": [
        "line=mass_file.readline()\n",
        "line\n",
        "line.split()\n",
        "\n",
        "\n",
        "line=mass_file.readline()\n",
        "line\n",
        "\n",
        "#line.split() enlève bien tous les espaces, du coup si y'a pas le 0 du début \n",
        "#il est pas compté\n",
        "splitted_list=line.split()\n",
        "print(splitted_list)\n",
        "\n",
        "print(splitted_list.index(\"B-\"))\n",
        "if splitted_list.index(\"B-\")==11 :\n",
        "    splitted_list.pop(0) \n",
        "    splitted_list.pop(5) #5 as index 0 is already removed\n",
        "if splitted_list.index(\"B-\")==10 :\n",
        "    if int(splitted_list[1])-int(splitted_list[2])==int(splitted_list[0]) :\n",
        "        splitted_list.pop(5)\n",
        "    else :\n",
        "        splitted_list.pop(0)\n",
        "if len(splitted_list)!=15 :\n",
        "    splitted_list.insert(11,\"0\")\n",
        "\n",
        "print(splitted_list)\n",
        "#Si expression précédente donne 11, il y a les 2 valeurs en trop le 0 au début\n",
        "#et le -qlqchose \n",
        "#Si expression précédente donne 10, on sait pas si c'est le 0 au début ou le \n",
        "# -qlqchose du coup on fait if [1]-[2]==[0], si c'est égal c'est le -qlq le pb\n",
        "#sinon c'est le 0 du début\n",
        "#Si expression précédente donne 9, niquel\n",
        "\n"
      ],
      "metadata": {
        "colab": {
          "base_uri": "https://localhost:8080/"
        },
        "id": "k2RS0f1sUV4e",
        "outputId": "0761deda-4113-4c2d-865e-967798b58cbc"
      },
      "execution_count": 101,
      "outputs": [
        {
          "output_type": "stream",
          "name": "stdout",
          "text": [
            "['-4', '6', '10', '16', 'Ne', '--', '23986.775', '20.480', '6083.1777', '1.2800', 'B-', '*', '16', '025750.860', '21.986']\n",
            "10\n",
            "['-4', '6', '10', '16', 'Ne', '23986.775', '20.480', '6083.1777', '1.2800', 'B-', '*', '0', '16', '025750.860', '21.986']\n"
          ]
        }
      ]
    },
    {
      "cell_type": "code",
      "source": [
        "#Try to extract everything\n",
        "\n",
        "data_list=np.array([])\n",
        "\n",
        "element_list=mass_file.readlines()\n",
        "\n",
        "for element in element_list :\n",
        "     splitted_data=element.split()\n",
        "         "
      ],
      "metadata": {
        "id": "A-lKYxt2bnjn"
      },
      "execution_count": null,
      "outputs": []
    }
  ]
}